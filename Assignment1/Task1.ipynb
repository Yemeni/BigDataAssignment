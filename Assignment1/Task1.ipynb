{
 "cells": [
  {
   "cell_type": "code",
   "execution_count": 7,
   "id": "497657fb-f236-401f-9e0d-37562220917f",
   "metadata": {},
   "outputs": [
    {
     "name": "stdout",
     "output_type": "stream",
     "text": [
      "[1, 6, 10, 4, 13, 20, 2, 3, 16, 9]\n",
      "1 13 3 9 "
     ]
    }
   ],
   "source": [
    "#Before coding we need to import the required libraries\n",
    "\n",
    "#1a/\n",
    "\n",
    "import numpy as np\n",
    "import pandas as pd\n",
    "import random\n",
    "import math\n",
    "from functools import reduce\n",
    "\n",
    "# using For loop\n",
    "\n",
    "list = [random.randint(1,20) for i in range(10)] \n",
    "print(list) \n",
    "#only_odd = [num_1 for num_1 in numbers if num_1 % 2 != 0] \n",
    "#print(only_odd) \n",
    "for num_1 in list: \n",
    "    if num_1 % 2 != 0: \n",
    "        print(num_1, end = \" \")"
   ]
  },
  {
   "cell_type": "code",
   "execution_count": 6,
   "id": "68290f5f-e954-4497-9494-172b563a69f7",
   "metadata": {},
   "outputs": [
    {
     "name": "stdout",
     "output_type": "stream",
     "text": [
      "[0, 10, 19, 9, 18, 8, 5, 13, 21, 1]\n"
     ]
    },
    {
     "data": {
      "text/plain": [
       "[19, 9, 5, 13, 21, 1]"
      ]
     },
     "execution_count": 6,
     "metadata": {},
     "output_type": "execute_result"
    }
   ],
   "source": [
    "#Using for loop\n",
    "def random_number():\n",
    "    n=[]\n",
    "    for i in range(10):\n",
    "        n =n+[random.randint(0,21)]\n",
    "    return n\n",
    "\n",
    "def is_odd(num1):\n",
    "    if num1%2==1:\n",
    "        return True\n",
    "\n",
    "\n",
    "def mapping(list1):\n",
    "    oddlist=[]\n",
    "    for i in list1 :\n",
    "        if is_odd(i)==True:\n",
    "            oddlist=oddlist+[i]\n",
    "    return oddlist\n",
    "    \n",
    "\n",
    "list1= random_number()\n",
    "print(list1)\n",
    "mapping(list1)"
   ]
  },
  {
   "cell_type": "code",
   "execution_count": 10,
   "id": "2397af40-1dc6-47e9-8395-16e3ec76e661",
   "metadata": {},
   "outputs": [
    {
     "name": "stdin",
     "output_type": "stream",
     "text": [
      "Enter the value of n:  6\n"
     ]
    },
    {
     "data": {
      "text/plain": [
       "[0, 4]"
      ]
     },
     "execution_count": 10,
     "metadata": {},
     "output_type": "execute_result"
    }
   ],
   "source": [
    "#1 b/\n",
    "\n",
    "n = input(\"Enter the value of n: \")\n",
    "n = int(n)\n",
    "lst = [i for i in range(0,n)]\n",
    "\n",
    "#print(lst)\n",
    "\n",
    "def EvenPowerTwo (x):\n",
    "    return [x**2 for x in range(n) if x % 2 == 0]\n",
    "    \n",
    "def listOfPowerTwo(n):\n",
    "    listofpower2=EvenPowerTwo(n)\n",
    "    newlst =[x for x in lst if x in listofpower2]\n",
    "    return newlst\n",
    "listOfPowerTwo(n)"
   ]
  },
  {
   "cell_type": "code",
   "execution_count": 12,
   "id": "81e73224-9d3d-43ca-9a3c-91dcdcc11552",
   "metadata": {},
   "outputs": [
    {
     "name": "stdin",
     "output_type": "stream",
     "text": [
      "Enter the value of n:  6\n"
     ]
    },
    {
     "data": {
      "text/plain": [
       "[0]"
      ]
     },
     "execution_count": 12,
     "metadata": {},
     "output_type": "execute_result"
    }
   ],
   "source": [
    "#1c\n",
    "## Its possible to change the second power to the cube of the numbers by changing one value in the coding file,\n",
    "#All these changes are happened while the input and the return value are same.\n",
    "\n",
    "n = input(\"Enter the value of n: \")\n",
    "n = int(n)\n",
    "lst = [i for i in range(0,n)]\n",
    "#print(lst)\n",
    "def EvenPowerTwo(x):\n",
    "    return [x**3 for x in range(n) if x % 2 == 0]\n",
    "def listOfPowerTwo(n):\n",
    "    listofpower2=EvenPowerTwo(n)\n",
    "    newlst =[x for x in lst if x in listofpower2]\n",
    "    return newlst\n",
    "listOfPowerTwo(n)"
   ]
  },
  {
   "cell_type": "code",
   "execution_count": 16,
   "id": "b88ce828-970d-4a07-83dd-5c3ee00f5f0c",
   "metadata": {},
   "outputs": [
    {
     "ename": "SyntaxError",
     "evalue": "invalid syntax (2148838473.py, line 8)",
     "output_type": "error",
     "traceback": [
      "\u001b[1;36m  Cell \u001b[1;32mIn[16], line 8\u001b[1;36m\u001b[0m\n\u001b[1;33m    even num = list(filter(lambda x: (x % 2 == 0), lst1))\u001b[0m\n\u001b[1;37m         ^\u001b[0m\n\u001b[1;31mSyntaxError\u001b[0m\u001b[1;31m:\u001b[0m invalid syntax\n"
     ]
    }
   ],
   "source": [
    "# 1d/\n",
    "\n",
    "n = input(\"Enter the value of n: \")\n",
    "n = int(n)\n",
    "#lst = [i for i in range(0,n)]\n",
    "list1 = [x for x in range(n) if x % 2 == 0 if x < n]\n",
    "#print(list1)\n",
    "even num = list(filter(lambda x: (x % 2 == 0), lst1))\n",
    "print(\"List of Even numbers: \", even num)"
   ]
  },
  {
   "cell_type": "code",
   "execution_count": null,
   "id": "149fc5fa-2731-43fc-aa7e-64707dce2ef8",
   "metadata": {},
   "outputs": [],
   "source": []
  }
 ],
 "metadata": {
  "kernelspec": {
   "display_name": "Python 3 (ipykernel)",
   "language": "python",
   "name": "python3"
  },
  "language_info": {
   "codemirror_mode": {
    "name": "ipython",
    "version": 3
   },
   "file_extension": ".py",
   "mimetype": "text/x-python",
   "name": "python",
   "nbconvert_exporter": "python",
   "pygments_lexer": "ipython3",
   "version": "3.11.7"
  }
 },
 "nbformat": 4,
 "nbformat_minor": 5
}
