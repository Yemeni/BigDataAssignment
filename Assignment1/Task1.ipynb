{
 "cells": [
  {
   "cell_type": "code",
   "execution_count": 1,
   "id": "497657fb-f236-401f-9e0d-37562220917f",
   "metadata": {
    "ExecuteTime": {
     "end_time": "2024-05-28T10:02:06.282002Z",
     "start_time": "2024-05-28T10:02:06.276796Z"
    }
   },
   "outputs": [
    {
     "name": "stdout",
     "output_type": "stream",
     "text": [
      "[14, 17, 15, 16, 3, 10, 3, 17, 6, 7]\n",
      "17 15 3 3 17 7 "
     ]
    }
   ],
   "source": [
    "#Before coding we need to import the required libraries\n",
    "\n",
    "#1a/\n",
    "\n",
    "import random\n",
    "\n",
    "# using For loop\n",
    "\n",
    "list = [random.randint(1,20) for i in range(10)] \n",
    "print(list) \n",
    "#only_odd = [num_1 for num_1 in numbers if num_1 % 2 != 0] \n",
    "#print(only_odd) \n",
    "for num_1 in list: \n",
    "    if num_1 % 2 != 0: \n",
    "        print(num_1, end = \" \")"
   ]
  },
  {
   "cell_type": "code",
   "execution_count": 2,
   "id": "68290f5f-e954-4497-9494-172b563a69f7",
   "metadata": {
    "ExecuteTime": {
     "end_time": "2024-05-28T10:02:06.288786Z",
     "start_time": "2024-05-28T10:02:06.283005Z"
    }
   },
   "outputs": [
    {
     "name": "stdout",
     "output_type": "stream",
     "text": [
      "[3, 3, 21, 3, 5, 5, 17, 18, 4, 17]\n"
     ]
    },
    {
     "data": {
      "text/plain": [
       "[3, 3, 21, 3, 5, 5, 17, 17]"
      ]
     },
     "execution_count": 2,
     "metadata": {},
     "output_type": "execute_result"
    }
   ],
   "source": [
    "#Using for loop\n",
    "def random_number():\n",
    "    n=[]\n",
    "    for i in range(10):\n",
    "        n =n+[random.randint(0,21)]\n",
    "    return n\n",
    "\n",
    "def is_odd(num1):\n",
    "    if num1%2==1:\n",
    "        return True\n",
    "\n",
    "\n",
    "def mapping(list1):\n",
    "    oddlist=[]\n",
    "    for i in list1 :\n",
    "        if is_odd(i)==True:\n",
    "            oddlist=oddlist+[i]\n",
    "    return oddlist\n",
    "    \n",
    "\n",
    "list1= random_number()\n",
    "print(list1)\n",
    "mapping(list1)"
   ]
  },
  {
   "cell_type": "code",
   "execution_count": 3,
   "id": "2397af40-1dc6-47e9-8395-16e3ec76e661",
   "metadata": {
    "ExecuteTime": {
     "end_time": "2024-05-28T10:02:09.508656Z",
     "start_time": "2024-05-28T10:02:06.288786Z"
    }
   },
   "outputs": [
    {
     "data": {
      "text/plain": [
       "[0, 4]"
      ]
     },
     "execution_count": 3,
     "metadata": {},
     "output_type": "execute_result"
    }
   ],
   "source": [
    "#1 b/\n",
    "\n",
    "n = input(\"Enter the value of n: \")\n",
    "n = int(n)\n",
    "lst = [i for i in range(0,n)]\n",
    "\n",
    "#print(lst)\n",
    "\n",
    "def EvenPowerTwo (x):\n",
    "    return [x**2 for x in range(n) if x % 2 == 0]\n",
    "    \n",
    "def listOfPowerTwo(n):\n",
    "    listofpower2=EvenPowerTwo(n)\n",
    "    newlst =[x for x in lst if x in listofpower2]\n",
    "    return newlst\n",
    "listOfPowerTwo(n)"
   ]
  },
  {
   "cell_type": "code",
   "execution_count": 4,
   "id": "81e73224-9d3d-43ca-9a3c-91dcdcc11552",
   "metadata": {
    "ExecuteTime": {
     "end_time": "2024-05-28T10:02:10.709550Z",
     "start_time": "2024-05-28T10:02:09.509660Z"
    }
   },
   "outputs": [
    {
     "data": {
      "text/plain": [
       "[0, 8]"
      ]
     },
     "execution_count": 4,
     "metadata": {},
     "output_type": "execute_result"
    }
   ],
   "source": [
    "#1c\n",
    "## Its possible to change the second power to the cube of the numbers by changing one value in the coding file,\n",
    "#All these changes are happened while the input and the return value are same.\n",
    "\n",
    "n = input(\"Enter the value of n: \")\n",
    "n = int(n)\n",
    "lst = [i for i in range(0,n)]\n",
    "#print(lst)\n",
    "def EvenPowerTwo(x):\n",
    "    return [x**3 for x in range(n) if x % 2 == 0]\n",
    "def listOfPowerTwo(n):\n",
    "    listofpower2=EvenPowerTwo(n)\n",
    "    newlst =[x for x in lst if x in listofpower2]\n",
    "    return newlst\n",
    "listOfPowerTwo(n)"
   ]
  },
  {
   "cell_type": "code",
   "execution_count": 7,
   "id": "b88ce828-970d-4a07-83dd-5c3ee00f5f0c",
   "metadata": {
    "ExecuteTime": {
     "end_time": "2024-05-28T10:03:54.499850Z",
     "start_time": "2024-05-28T10:03:53.048449Z"
    }
   },
   "outputs": [
    {
     "name": "stdout",
     "output_type": "stream",
     "text": [
      "[0, 2, 4, 6, 8, 10]\n"
     ]
    }
   ],
   "source": [
    "# 1d/\n",
    "\n",
    "# ask the user for input\n",
    "n = int(input(\"Enter a number: \"))\n",
    "\n",
    "# check if even\n",
    "is_even = lambda x: x % 2 == 0\n",
    "\n",
    "# generate list even numbers\n",
    "even_numbers = [i for i in range(n) if is_even(i)]\n",
    "\n",
    "# Print  list\n",
    "print(even_numbers)"
   ]
  },
  {
   "cell_type": "code",
   "execution_count": 8,
   "id": "149fc5fa-2731-43fc-aa7e-64707dce2ef8",
   "metadata": {
    "ExecuteTime": {
     "end_time": "2024-05-28T10:06:00.723480Z",
     "start_time": "2024-05-28T10:06:00.719447Z"
    }
   },
   "outputs": [
    {
     "name": "stdout",
     "output_type": "stream",
     "text": [
      "Weights in kilograms: [91.625584, 52.3445168, 57.152592, 54.204244, 102.965384, 58.059776, 104.779752]\n",
      "Filtered weights: [57.152592, 58.059776]\n",
      "Sum of filtered weights: 115.212368\n"
     ]
    }
   ],
   "source": [
    "# 1 e\n",
    "\n",
    "from functools import reduce\n",
    "\n",
    "# Define the pounds to kg function\n",
    "def pounds_to_kg(pounds):\n",
    "    return pounds * 0.453592\n",
    "\n",
    "# list of weights in pounds\n",
    "weights_in_pounds = [202, 115.4, 126, 119.5, 227, 128, 231]\n",
    "\n",
    "# convert list using comprehension\n",
    "weights_in_kg = [pounds_to_kg(weight) for weight in weights_in_pounds]\n",
    "print(\"Weights in kilograms:\", weights_in_kg)\n",
    "\n",
    "# filter b/w 56 kg to 91.5 kg\n",
    "filtered_weights = [weight for weight in weights_in_kg if 56 <= weight <= 91.5]\n",
    "print(\"Filtered weights:\", filtered_weights)\n",
    "\n",
    "# compute sum of the filtered weights using the reduce function\n",
    "total_weight = reduce(lambda x, y: x + y, filtered_weights)\n",
    "print(\"Sum of filtered weights:\", total_weight)\n"
   ]
  },
  {
   "cell_type": "code",
   "execution_count": null,
   "id": "17e3195797601117",
   "metadata": {},
   "outputs": [],
   "source": []
  }
 ],
 "metadata": {
  "kernelspec": {
   "display_name": "Python 3 (ipykernel)",
   "language": "python",
   "name": "python3"
  },
  "language_info": {
   "codemirror_mode": {
    "name": "ipython",
    "version": 3
   },
   "file_extension": ".py",
   "mimetype": "text/x-python",
   "name": "python",
   "nbconvert_exporter": "python",
   "pygments_lexer": "ipython3",
   "version": "3.12.3"
  }
 },
 "nbformat": 4,
 "nbformat_minor": 5
}
