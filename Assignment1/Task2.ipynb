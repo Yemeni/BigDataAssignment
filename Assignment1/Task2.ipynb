{
 "cells": [
  {
   "cell_type": "code",
   "execution_count": 1,
   "id": "initial_id",
   "metadata": {
    "ExecuteTime": {
     "end_time": "2024-05-27T21:10:24.718450Z",
     "start_time": "2024-05-27T21:10:24.715452Z"
    },
    "collapsed": true,
    "jupyter": {
     "outputs_hidden": true
    }
   },
   "outputs": [
    {
     "name": "stdout",
     "output_type": "stream",
     "text": [
      "['I', 'like', 'apples']\n",
      "['I', 'like', 'apples']\n",
      "['I', 'like', 'cookies']\n",
      "['I', 'like', 'apples']\n"
     ]
    }
   ],
   "source": [
    "# Task 2a\n",
    "a = [\"I\", \"like\", \"cookies\"]\n",
    "b = a\n",
    "b[2] = \"apples\"\n",
    "print(a)\n",
    "print(b)\n",
    "\n",
    "# Task 2b\n",
    "a = [\"I\", \"like\", \"cookies\"]\n",
    "b = a[:]\n",
    "b[2] = \"apples\"\n",
    "print(a)\n",
    "print(b)\n"
   ]
  },
  {
   "cell_type": "code",
   "execution_count": 2,
   "id": "f794dbdd1b591bfc",
   "metadata": {
    "ExecuteTime": {
     "end_time": "2024-05-27T21:15:34.723437Z",
     "start_time": "2024-05-27T21:15:34.719324Z"
    }
   },
   "outputs": [
    {
     "name": "stdout",
     "output_type": "stream",
     "text": [
      "['I', 'like', ['chocolate', 'apples']]\n",
      "['I', 'like', ['chocolate', 'apples']]\n",
      "['I', 'like', ['chocolate', 'cookies']]\n",
      "['I', 'like', ['chocolate', 'apples']]\n"
     ]
    }
   ],
   "source": [
    "from copy import deepcopy\n",
    "\n",
    "# Task 2c\n",
    "a = [\"I\", \"like\", [\"chocolate\", \"cookies\"]]\n",
    "b = a[:]\n",
    "b[2][1] = \"apples\"\n",
    "print(a)\n",
    "print(b)\n",
    "\n",
    "# Task 2 d\n",
    "a = [\"I\", \"like\", [\"chocolate\", \"cookies\"]]\n",
    "b = deepcopy(a)\n",
    "b[2][1] = \"apples\"\n",
    "print(a)\n",
    "print(b)\n"
   ]
  },
  {
   "cell_type": "code",
   "execution_count": 3,
   "id": "43dca34082e2a39e",
   "metadata": {
    "ExecuteTime": {
     "end_time": "2024-05-27T21:16:59.587737Z",
     "start_time": "2024-05-27T21:16:59.576975Z"
    }
   },
   "outputs": [
    {
     "name": "stdout",
     "output_type": "stream",
     "text": [
      "{0: 0, 1: 1, 2: 4, 3: 9, 4: 16, 5: 25, 6: 36}\n"
     ]
    }
   ],
   "source": [
    "# task 2 e\n",
    "def create_dict(n):\n",
    "    my_dict = {}\n",
    "    for i in range(n):\n",
    "        my_dict[i] = i**2\n",
    "    return my_dict\n",
    "\n",
    "n = 7\n",
    "print(create_dict(n))\n"
   ]
  },
  {
   "cell_type": "code",
   "execution_count": 4,
   "id": "e9ef10d48a6ca798",
   "metadata": {
    "ExecuteTime": {
     "end_time": "2024-05-27T21:17:06.624463Z",
     "start_time": "2024-05-27T21:17:06.621358Z"
    }
   },
   "outputs": [
    {
     "name": "stdout",
     "output_type": "stream",
     "text": [
      "[0, 1, 2, 3, 4, 5, 6]\n"
     ]
    }
   ],
   "source": [
    "# Task 2 f\n",
    "keys_list = []\n",
    "for key in create_dict(7).keys():\n",
    "    keys_list.append(key)\n",
    "print(keys_list)\n"
   ]
  }
 ],
 "metadata": {
  "kernelspec": {
   "display_name": "Python 3 (ipykernel)",
   "language": "python",
   "name": "python3"
  },
  "language_info": {
   "codemirror_mode": {
    "name": "ipython",
    "version": 3
   },
   "file_extension": ".py",
   "mimetype": "text/x-python",
   "name": "python",
   "nbconvert_exporter": "python",
   "pygments_lexer": "ipython3",
   "version": "3.12.3"
  }
 },
 "nbformat": 4,
 "nbformat_minor": 5
}
