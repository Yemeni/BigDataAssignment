{
 "cells": [
  {
   "cell_type": "code",
   "id": "initial_id",
   "metadata": {
    "collapsed": true,
    "ExecuteTime": {
     "end_time": "2024-05-27T21:10:24.718450Z",
     "start_time": "2024-05-27T21:10:24.715452Z"
    }
   },
   "source": [
    "# Task (a)\n",
    "a = [\"I\", \"like\", \"cookies\"]\n",
    "b = a\n",
    "b[2] = \"apples\"\n",
    "print(a)\n",
    "print(b)\n",
    "\n",
    "# Task (b)\n",
    "a = [\"I\", \"like\", \"cookies\"]\n",
    "b = a[:]\n",
    "b[2] = \"apples\"\n",
    "print(a)\n",
    "print(b)\n"
   ],
   "outputs": [
    {
     "name": "stdout",
     "output_type": "stream",
     "text": [
      "['I', 'like', 'apples']\n",
      "['I', 'like', 'apples']\n",
      "['I', 'like', 'cookies']\n",
      "['I', 'like', 'apples']\n"
     ]
    }
   ],
   "execution_count": 1
  },
  {
   "metadata": {
    "ExecuteTime": {
     "end_time": "2024-05-27T21:15:34.723437Z",
     "start_time": "2024-05-27T21:15:34.719324Z"
    }
   },
   "cell_type": "code",
   "source": [
    "from copy import deepcopy\n",
    "\n",
    "# Task (c)\n",
    "a = [\"I\", \"like\", [\"chocolate\", \"cookies\"]]\n",
    "b = a[:]\n",
    "b[2][1] = \"apples\"\n",
    "print(a)\n",
    "print(b)\n",
    "\n",
    "# Task (d)\n",
    "a = [\"I\", \"like\", [\"chocolate\", \"cookies\"]]\n",
    "b = deepcopy(a)\n",
    "b[2][1] = \"apples\"\n",
    "print(a)\n",
    "print(b)\n"
   ],
   "id": "f794dbdd1b591bfc",
   "outputs": [
    {
     "name": "stdout",
     "output_type": "stream",
     "text": [
      "['I', 'like', ['chocolate', 'apples']]\n",
      "['I', 'like', ['chocolate', 'apples']]\n",
      "['I', 'like', ['chocolate', 'cookies']]\n",
      "['I', 'like', ['chocolate', 'apples']]\n"
     ]
    }
   ],
   "execution_count": 2
  },
  {
   "metadata": {
    "ExecuteTime": {
     "end_time": "2024-05-27T21:16:59.587737Z",
     "start_time": "2024-05-27T21:16:59.576975Z"
    }
   },
   "cell_type": "code",
   "source": [
    "# task 2 \n",
    "def create_dict(n):\n",
    "    my_dict = {}\n",
    "    for i in range(n):\n",
    "        my_dict[i] = i**2\n",
    "    return my_dict\n",
    "\n",
    "n = 7\n",
    "print(create_dict(n))\n"
   ],
   "id": "43dca34082e2a39e",
   "outputs": [
    {
     "name": "stdout",
     "output_type": "stream",
     "text": [
      "{0: 0, 1: 1, 2: 4, 3: 9, 4: 16, 5: 25, 6: 36}\n"
     ]
    }
   ],
   "execution_count": 3
  },
  {
   "metadata": {
    "ExecuteTime": {
     "end_time": "2024-05-27T21:17:06.624463Z",
     "start_time": "2024-05-27T21:17:06.621358Z"
    }
   },
   "cell_type": "code",
   "source": [
    "keys_list = []\n",
    "for key in create_dict(7).keys():\n",
    "    keys_list.append(key)\n",
    "print(keys_list)\n"
   ],
   "id": "e9ef10d48a6ca798",
   "outputs": [
    {
     "name": "stdout",
     "output_type": "stream",
     "text": [
      "[0, 1, 2, 3, 4, 5, 6]\n"
     ]
    }
   ],
   "execution_count": 4
  },
  {
   "metadata": {},
   "cell_type": "code",
   "outputs": [],
   "execution_count": null,
   "source": "",
   "id": "befd4f40b492b220"
  }
 ],
 "metadata": {
  "kernelspec": {
   "display_name": "Python 3",
   "language": "python",
   "name": "python3"
  },
  "language_info": {
   "codemirror_mode": {
    "name": "ipython",
    "version": 2
   },
   "file_extension": ".py",
   "mimetype": "text/x-python",
   "name": "python",
   "nbconvert_exporter": "python",
   "pygments_lexer": "ipython2",
   "version": "2.7.6"
  }
 },
 "nbformat": 4,
 "nbformat_minor": 5
}
