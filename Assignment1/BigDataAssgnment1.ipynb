{
 "cells": [
  {
   "cell_type": "raw",
   "id": "17f60d0a9515c816",
   "metadata": {},
   "source": [
    "# # Big Data Assignment 1\n",
    "# ### Members: Yosuef and Djibril\n",
    "\n"
   ]
  },
  {
   "cell_type": "markdown",
   "id": "e8a0e18a172fb12e",
   "metadata": {},
   "source": [
    "Task 1"
   ]
  },
  {
   "cell_type": "code",
   "execution_count": 1,
   "id": "28fef9d0b0cc9499",
   "metadata": {
    "ExecuteTime": {
     "end_time": "2024-05-27T19:42:03.718131Z",
     "start_time": "2024-05-27T19:42:03.712109Z"
    }
   },
   "outputs": [
    {
     "name": "stdout",
     "output_type": "stream",
     "text": [
      "15\n",
      "9\n",
      "11\n",
      "1\n",
      "3\n",
      "9\n",
      "3\n"
     ]
    }
   ],
   "source": [
    "import random\n",
    "\n",
    "random_numbers = []\n",
    "\n",
    "for i in range(10):\n",
    "    number = random.randint(1, 20)\n",
    "    random_numbers.append(number)\n",
    "\n",
    "for number in random_numbers:\n",
    "    if number % 2 != 0:\n",
    "        print(number)\n"
   ]
  },
  {
   "cell_type": "code",
   "execution_count": null,
   "id": "614f9a22f0c5a4e0",
   "metadata": {},
   "outputs": [],
   "source": []
  }
 ],
 "metadata": {
  "kernelspec": {
   "display_name": "Python 3 (ipykernel)",
   "language": "python",
   "name": "python3"
  },
  "language_info": {
   "codemirror_mode": {
    "name": "ipython",
    "version": 3
   },
   "file_extension": ".py",
   "mimetype": "text/x-python",
   "name": "python",
   "nbconvert_exporter": "python",
   "pygments_lexer": "ipython3",
   "version": "3.12.3"
  }
 },
 "nbformat": 4,
 "nbformat_minor": 5
}
