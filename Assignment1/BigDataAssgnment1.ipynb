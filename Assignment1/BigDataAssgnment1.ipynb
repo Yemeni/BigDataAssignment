{
 "cells": [
  {
   "cell_type": "raw",
   "id": "17f60d0a9515c816",
   "metadata": {},
   "source": [
    "# # Big Data Assignment 1\n",
    "# ### Members: Yosuef and Djibril\n",
    "\n"
   ]
  },
  {
   "cell_type": "code",
   "execution_count": null,
   "id": "473e4798-d275-4764-a25c-b7bd7e4a4bf8",
   "metadata": {},
   "outputs": [],
   "source": "\n"
  }
 ],
 "metadata": {
  "kernelspec": {
   "display_name": "Python 3 (ipykernel)",
   "language": "python",
   "name": "python3"
  },
  "language_info": {
   "codemirror_mode": {
    "name": "ipython",
    "version": 3
   },
   "file_extension": ".py",
   "mimetype": "text/x-python",
   "name": "python",
   "nbconvert_exporter": "python",
   "pygments_lexer": "ipython3",
   "version": "3.12.3"
  }
 },
 "nbformat": 4,
 "nbformat_minor": 5
}
