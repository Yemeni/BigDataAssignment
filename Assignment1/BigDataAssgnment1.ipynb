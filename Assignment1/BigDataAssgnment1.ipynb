{
 "cells": [
  {
   "cell_type": "raw",
   "id": "17f60d0a9515c816",
   "metadata": {},
   "source": [
    "# # Big Data Assignment 1\n",
    "# ### Members: Yosuef and Djibril\n",
    "\n"
   ]
  },
  {
   "cell_type": "markdown",
   "id": "e8a0e18a172fb12e",
   "metadata": {},
   "source": [
    "Task 1"
   ]
  },
  {
   "cell_type": "code",
   "id": "28fef9d0b0cc9499",
   "metadata": {
    "ExecuteTime": {
     "end_time": "2024-05-27T20:30:28.448503Z",
     "start_time": "2024-05-27T20:30:28.431776Z"
    }
   },
   "source": [
    "import random\n",
    "\n",
    "def print_odd_numbers_for_loop():\n",
    "    random_numbers = [random.randint(1, 20) for _ in range(10)]\n",
    "    print(\"List of random numbers:\", random_numbers)\n",
    "\n",
    "    \n",
    "    for number in random_numbers:\n",
    "        if number % 2 != 0: \n",
    "            print(number)\n",
    "\n",
    "print_odd_numbers_for_loop()\n",
    "\n",
    "def print_odd_numbers_while_loop():\n",
    "    random_numbers = [random.randint(1, 20) for _ in range(10)]\n",
    "    print(\"List of random numbers:\", random_numbers)\n",
    "\n",
    "    index = 0\n",
    "    while index < len(random_numbers):\n",
    "        if random_numbers[index] % 2 != 0: \n",
    "            print(random_numbers[index])\n",
    "        index += 1\n",
    "\n",
    "print_odd_numbers_while_loop()\n",
    "\n",
    "def print_odd_numbers_list_comprehension():\n",
    "    random_numbers = [random.randint(1, 20) for _ in range(10)]\n",
    "    print(\"List of random numbers:\", random_numbers)\n",
    "    \n",
    "    [print(number) for number in random_numbers if number % 2 != 0]\n",
    "\n",
    "print_odd_numbers_list_comprehension()"
   ],
   "outputs": [
    {
     "name": "stdout",
     "output_type": "stream",
     "text": [
      "List of random numbers: [10, 2, 15, 4, 8, 4, 9, 5, 19, 16]\n",
      "15\n",
      "9\n",
      "5\n",
      "19\n",
      "List of random numbers: [8, 10, 4, 11, 17, 19, 4, 20, 15, 2]\n",
      "11\n",
      "17\n",
      "19\n",
      "15\n",
      "List of random numbers: [7, 9, 19, 9, 15, 9, 6, 5, 1, 19]\n",
      "7\n",
      "9\n",
      "19\n",
      "9\n",
      "15\n",
      "9\n",
      "5\n",
      "1\n",
      "19\n"
     ]
    }
   ],
   "execution_count": 8
  },
  {
   "metadata": {},
   "cell_type": "markdown",
   "source": "The best loop is the for loop because it's readable and easy to understand",
   "id": "9e47e6c01bec55a4"
  },
  {
   "metadata": {},
   "cell_type": "markdown",
   "source": "Task 1b",
   "id": "e7915ca3b08f04fe"
  },
  {
   "cell_type": "code",
   "id": "614f9a22f0c5a4e0",
   "metadata": {
    "ExecuteTime": {
     "end_time": "2024-05-27T20:23:21.414190Z",
     "start_time": "2024-05-27T20:23:19.114324Z"
    }
   },
   "source": [
    "def generate_squares(n):\n",
    "    return [i**2 for i in range(n+1)]\n",
    "\n",
    "\n",
    "n = int(input(\"Enter a number: \"))\n",
    "squares_list = generate_squares(n)\n",
    "print(squares_list)\n"
   ],
   "outputs": [
    {
     "name": "stdout",
     "output_type": "stream",
     "text": [
      "[0, 1, 4, 9, 16, 25, 36, 49, 64, 81, 100, 121, 144, 169, 196, 225, 256, 289, 324, 361, 400, 441, 484, 529, 576, 625, 676, 729, 784, 841, 900, 961, 1024, 1089, 1156, 1225, 1296, 1369, 1444, 1521, 1600, 1681, 1764, 1849, 1936, 2025, 2116, 2209, 2304, 2401, 2500, 2601, 2704, 2809, 2916, 3025, 3136, 3249, 3364, 3481, 3600, 3721, 3844, 3969, 4096, 4225, 4356, 4489, 4624, 4761]\n"
     ]
    }
   ],
   "execution_count": 6
  },
  {
   "metadata": {},
   "cell_type": "markdown",
   "source": "Task 1c",
   "id": "65fabda1e36f3c5e"
  },
  {
   "cell_type": "code",
   "id": "00d5cb5b-f79a-49c3-872f-1ed80358f1b7",
   "metadata": {
    "ExecuteTime": {
     "end_time": "2024-05-27T20:23:23.788260Z",
     "start_time": "2024-05-27T20:23:23.784425Z"
    }
   },
   "source": [
    "def cube_even_numbers(squares_list):\n",
    "    return [x**3 if x % 2 == 0 else x for x in squares_list]\n",
    "\n",
    "cubed_evens_list = cube_even_numbers(squares_list)\n",
    "print(cubed_evens_list) \n"
   ],
   "outputs": [
    {
     "name": "stdout",
     "output_type": "stream",
     "text": [
      "[0, 1, 64, 9, 4096, 25, 46656, 49, 262144, 81, 1000000, 121, 2985984, 169, 7529536, 225, 16777216, 289, 34012224, 361, 64000000, 441, 113379904, 529, 191102976, 625, 308915776, 729, 481890304, 841, 729000000, 961, 1073741824, 1089, 1544804416, 1225, 2176782336, 1369, 3010936384, 1521, 4096000000, 1681, 5489031744, 1849, 7256313856, 2025, 9474296896, 2209, 12230590464, 2401, 15625000000, 2601, 19770609664, 2809, 24794911296, 3025, 30840979456, 3249, 38068692544, 3481, 46656000000, 3721, 56800235584, 3969, 68719476736, 4225, 82653950016, 4489, 98867482624, 4761]\n"
     ]
    }
   ],
   "execution_count": 7
  },
  {
   "metadata": {},
   "cell_type": "code",
   "outputs": [],
   "execution_count": null,
   "source": "",
   "id": "8093bfc3a9702059"
  }
 ],
 "metadata": {
  "kernelspec": {
   "display_name": "Python 3 (ipykernel)",
   "language": "python",
   "name": "python3"
  },
  "language_info": {
   "codemirror_mode": {
    "name": "ipython",
    "version": 3
   },
   "file_extension": ".py",
   "mimetype": "text/x-python",
   "name": "python",
   "nbconvert_exporter": "python",
   "pygments_lexer": "ipython3",
   "version": "3.12.3"
  }
 },
 "nbformat": 4,
 "nbformat_minor": 5
}
