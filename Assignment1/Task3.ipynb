{
 "cells": [
  {
   "cell_type": "code",
   "execution_count": 2,
   "id": "c8b1d0d332f112c3",
   "metadata": {
    "ExecuteTime": {
     "end_time": "2024-05-28T08:34:53.087836Z",
     "start_time": "2024-05-28T08:34:53.083797Z"
    }
   },
   "outputs": [
    {
     "name": "stdout",
     "output_type": "stream",
     "text": [
      "[[843 864]\n",
      " [354 551]]\n"
     ]
    }
   ],
   "source": [
    "# Task 3 a\n",
    "\n",
    "# Djibril 602474\n",
    "# Yousef 600558\n",
    "\n",
    "x = 6+0+0+5+5+8  \n",
    "y = 6+0+2+4+7+4  \n",
    "\n",
    "\n",
    "import numpy as np\n",
    "\n",
    "\n",
    "A = np.array([[5, 19, y], [7, 13, 2]])\n",
    "B = np.array([[3, 31], [23, x], [17, 11]])\n",
    "\n",
    "\n",
    "\n",
    "C = np.dot(A, B)\n",
    "print(C)\n"
   ]
  },
  {
   "cell_type": "code",
   "execution_count": null,
   "id": "4230a7e1ccad1956",
   "metadata": {},
   "outputs": [],
   "source": [
    "# Task 3 b\n",
    "\n",
    "# How did we do the matrix multiplication using MapReduce?\n",
    "# Step 1 : we write the matrices from the task 3 as python tuples.\n",
    "# A {(0,0,5),(0,1,19),(0,2,23),(1,0,7),(1,1,13),(1,2,2)}\n",
    "# 𝐵 {(0,0,3),(0,1,31),(1,0,23),(1,1,24),(2,0,17),(2,1,11)}\n",
    "# Step 2: Map step: create pairs, key pairs of each combination a and b\n",
    "# Step 3: Shuffle and Sort, group pairs by keys\n",
    "# Step 4: Reduce step: multiply and sum.\n",
    "# C[0,0], C[0,1],C[,0],C[1,1],\n"
   ]
  },
  {
   "cell_type": "code",
   "execution_count": 4,
   "id": "364375961a2d985c",
   "metadata": {
    "ExecuteTime": {
     "end_time": "2024-05-28T08:48:57.014812Z",
     "start_time": "2024-05-28T08:48:57.010034Z"
    }
   },
   "outputs": [
    {
     "name": "stdout",
     "output_type": "stream",
     "text": [
      "Matrix A:\n",
      "[5, 19, 23]\n",
      "[7, 13, 2]\n",
      "\n",
      "Matrix B:\n",
      "[3, 31]\n",
      "[23, 24]\n",
      "[17, 11]\n",
      "\n",
      "Matrix C:\n",
      "[843, 864]\n",
      "[354, 551]\n"
     ]
    }
   ],
   "source": [
    "# Task 3 c\n",
    "\n",
    "# defining a function called matrixMultiplication\n",
    "def matrixMultiplication(A, B):\n",
    "    \n",
    "    rows_A = len(A)\n",
    "    cols_A = len(A[0])\n",
    "    cols_B = len(B[0])\n",
    "\n",
    "    C = [[0 for _ in range(cols_B)] for _ in range(rows_A)]\n",
    "\n",
    "    for i in range(rows_A):\n",
    "        for j in range(cols_B):\n",
    "            C[i][j] = sum(A[i][k] * B[k][j] for k in range(cols_A))\n",
    "    \n",
    "    return C\n",
    "\n",
    "A = [[5, 19, 23], [7, 13, 2]]\n",
    "B = [[3, 31], [23, 24], [17, 11]]\n",
    "\n",
    "# performing our function\n",
    "C = matrixMultiplication(A, B)\n",
    "\n",
    "print(\"Matrix A:\")\n",
    "for row in A:\n",
    "    print(row)\n",
    "\n",
    "print(\"\\nMatrix B:\")\n",
    "for row in B:\n",
    "    print(row)\n",
    "\n",
    "print(\"\\nMatrix C:\")\n",
    "for row in C:\n",
    "    print(row)\n"
   ]
  },
  {
   "cell_type": "code",
   "execution_count": null,
   "id": "259f11ab6b7893ee",
   "metadata": {},
   "outputs": [],
   "source": []
  }
 ],
 "metadata": {
  "kernelspec": {
   "display_name": "Python 3 (ipykernel)",
   "language": "python",
   "name": "python3"
  },
  "language_info": {
   "codemirror_mode": {
    "name": "ipython",
    "version": 3
   },
   "file_extension": ".py",
   "mimetype": "text/x-python",
   "name": "python",
   "nbconvert_exporter": "python",
   "pygments_lexer": "ipython3",
   "version": "3.12.3"
  }
 },
 "nbformat": 4,
 "nbformat_minor": 5
}
