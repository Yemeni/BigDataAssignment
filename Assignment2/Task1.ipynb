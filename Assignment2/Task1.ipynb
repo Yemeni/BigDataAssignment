{
 "cells": [
  {
   "metadata": {},
   "cell_type": "code",
   "outputs": [],
   "execution_count": null,
   "source": "",
   "id": "e07b36d7d94c45a8"
  },
  {
   "cell_type": "code",
   "id": "initial_id",
   "metadata": {
    "collapsed": true,
    "ExecuteTime": {
     "end_time": "2024-06-05T10:21:32.989736Z",
     "start_time": "2024-06-05T10:21:32.849552Z"
    }
   },
   "source": [
    "from py2neo import Graph\n",
    "\n",
    "# Connect to Neo4j\n",
    "graph = Graph(\"bolt://localhost:7687\", auth=(\"neo4j\", \"password\"))\n",
    "\n"
   ],
   "outputs": [],
   "execution_count": 1
  },
  {
   "metadata": {
    "ExecuteTime": {
     "end_time": "2024-06-05T10:41:32.292753Z",
     "start_time": "2024-06-05T10:41:32.260670Z"
    }
   },
   "cell_type": "code",
   "source": [
    "# Task 1(a)\n",
    "query_1a = \"\"\"\n",
    "MATCH (d:Person)-[:DIRECTED]->(:Movie {title: \"Inception\"})<-[:ACTED_IN]-(a:Person)\n",
    "RETURN DISTINCT a.name AS ActorName\n",
    "\"\"\"\n",
    "result_1a = graph.run(query_1a).data()\n",
    "print(\"Task 1(a) - Actors who worked with the director of 'Inception':\")\n",
    "for record in result_1a:\n",
    "    print(record['ActorName'])\n",
    "print(\"\\n\")"
   ],
   "id": "9dc85e786686105f",
   "outputs": [
    {
     "name": "stdout",
     "output_type": "stream",
     "text": [
      "Task 1(a) - Actors who worked with the director of 'Inception':\n",
      "Tom Hardy\n",
      "Leonardo DiCaprio\n",
      "Tom Berenger\n",
      "Lukas Haas\n",
      "Joseph Gordon-Levitt\n",
      "Marion Cotillard\n",
      "Ken Watanabe\n",
      "Ellen Page\n",
      "Pete Postlethwaite\n",
      "Dileep Rao\n",
      "Talulah Riley\n",
      "Cillian Murphy\n",
      "Michael Caine\n",
      "\n",
      "\n"
     ]
    }
   ],
   "execution_count": 23
  },
  {
   "metadata": {
    "ExecuteTime": {
     "end_time": "2024-06-05T10:42:33.828035Z",
     "start_time": "2024-06-05T10:42:33.817762Z"
    }
   },
   "cell_type": "code",
   "source": [
    "# Task 1(b)\n",
    "query_1b = \"\"\"\n",
    "MATCH (d:Person)-[:DIRECTED]->(m:Movie)<-[:ACTED_IN]-(a:Person)\n",
    "WHERE (d)-[:DIRECTED]->(:Movie {title: \"Inception\"})\n",
    "RETURN m.title AS title, collect(a.name) AS List_of_actors\n",
    "\"\"\"\n",
    "result_1b = graph.run(query_1b).data()\n",
    "print(\"Task 1(b) - Movies directed by 'Inception' director and their actors:\")\n",
    "for record in result_1b:\n",
    "    print(f\"Title: {record['title']}\")\n",
    "    print(\"List of actors:\", record['List_of_actors'])\n",
    "print(\"\\n\")"
   ],
   "id": "97865563774ee09f",
   "outputs": [
    {
     "name": "stdout",
     "output_type": "stream",
     "text": [
      "Task 1(b) - Movies directed by 'Inception' director and their actors:\n",
      "Title: The Dark Knight\n",
      "List of actors: ['Eric Roberts', 'Anthony Michael Hall', 'Maggie Gyllenhaal', 'Christian Bale', 'Heath Ledger', 'Morgan Freeman', 'Colin McFarlane', 'Melinda McGraw', 'Keith Szarabajka', 'Gary Oldman', 'Chin Han', 'William Fichtner', 'Nestor Carbonell', 'Cillian Murphy', 'Aaron Eckhart', 'Ritchie Coster', 'Michael Caine']\n",
      "Title: The Dark Knight Rises\n",
      "List of actors: ['Anne Hathaway', 'Morgan Freeman', 'Liam Neeson', 'Gary Oldman', 'Christian Bale', 'Michael Caine', 'Cillian Murphy', 'Tom Hardy', 'Daniel Sunjata', 'Tom Conti', 'Warren Brown', 'Nestor Carbonell', 'Matthew Modine', 'Ben Mendelsohn', 'Juno Temple', 'Marion Cotillard', 'Josh Pence', 'Aiden Gillen', 'Vincent van Ommen', 'Joseph Gordon-Levitt', 'Alon Aboutboul', 'Joey King']\n",
      "Title: Inception\n",
      "List of actors: ['Tom Hardy', 'Leonardo DiCaprio', 'Tom Berenger', 'Lukas Haas', 'Joseph Gordon-Levitt', 'Marion Cotillard', 'Ken Watanabe', 'Ellen Page', 'Pete Postlethwaite', 'Dileep Rao', 'Talulah Riley', 'Cillian Murphy', 'Michael Caine']\n",
      "\n",
      "\n"
     ]
    }
   ],
   "execution_count": 24
  },
  {
   "metadata": {
    "ExecuteTime": {
     "end_time": "2024-06-05T10:43:02.777196Z",
     "start_time": "2024-06-05T10:43:02.767527Z"
    }
   },
   "cell_type": "code",
   "source": [
    "# Task 1(c)\n",
    "query_1c = \"\"\"\n",
    "MATCH (d:Person)-[:DIRECTED]->(m:Movie)\n",
    "WHERE d.name =~ '^[M-Y].*'\n",
    "RETURN d.name AS Directors_Name, COUNT(m) AS Number_of_movies\n",
    "\"\"\"\n",
    "result_1c = graph.run(query_1c).data()\n",
    "print(\"Task 1(c) - Directors with first name between M and Y and their movie counts:\")\n",
    "for record in result_1c:\n",
    "    print(f\"Director: {record['Directors_Name']}, Number of movies: {record['Number_of_movies']}\")\n",
    "print(\"\\n\")"
   ],
   "id": "e60b809c1eee0b42",
   "outputs": [
    {
     "name": "stdout",
     "output_type": "stream",
     "text": [
      "Task 1(c) - Directors with first name between M and Y and their movie counts:\n",
      "Director: Quentin Tarantino, Number of movies: 1\n",
      "Director: Tom Tykwer, Number of movies: 1\n",
      "Director: Sergio Leone, Number of movies: 1\n",
      "Director: Steven Spielberg, Number of movies: 1\n",
      "Director: Sidney Lumet, Number of movies: 1\n",
      "Director: Peter Jackson, Number of movies: 3\n",
      "Director: Miloš Forman, Number of movies: 1\n",
      "Director: Robert Zemeckis, Number of movies: 2\n",
      "Director: Martin Scorsese, Number of movies: 2\n",
      "Director: Noam Murro, Number of movies: 1\n",
      "Director: Phil Lord, Number of movies: 1\n",
      "Director: Spike Jonze, Number of movies: 1\n",
      "Director: Steve McQueen, Number of movies: 1\n",
      "Director: Neill Blomkamp, Number of movies: 1\n",
      "Director: Rob Minkoff, Number of movies: 1\n",
      "Director: Tommy Wirkola, Number of movies: 1\n",
      "Director: Tony Bancroft, Number of movies: 1\n",
      "Director: Michael J. Bassett, Number of movies: 1\n",
      "Director: Tom Hooper, Number of movies: 1\n",
      "Director: Paul Thomas Anderson, Number of movies: 1\n",
      "Director: Phyllida Lloyd, Number of movies: 1\n",
      "Director: Sofia Coppola, Number of movies: 1\n",
      "\n",
      "\n"
     ]
    }
   ],
   "execution_count": 25
  },
  {
   "metadata": {
    "ExecuteTime": {
     "end_time": "2024-06-05T10:43:26.107614Z",
     "start_time": "2024-06-05T10:43:26.094535Z"
    }
   },
   "cell_type": "code",
   "source": [
    "# Task 1(d)\n",
    "query_1d = \"\"\"\n",
    "MATCH (m:Movie)\n",
    "WITH m, m.rating AS rate, COUNT { (m)<-[:RATED]-() } AS numRatings\n",
    "RETURN m.title AS title, min(rate) AS minRating, avg(rate) AS avgRating, max(rate) AS maxRating, numRatings\n",
    "ORDER BY avgRating DESC\n",
    "LIMIT 5\n",
    "\"\"\"\n",
    "result_1d = graph.run(query_1d).data()\n",
    "print(\"Task 1(d) - Top 5 recommended movies:\")\n",
    "for record in result_1d:\n",
    "    print(f\"Title: {record['title']}, Min Rating: {record['minRating']}, Avg Rating: {record['avgRating']}, Max Rating: {record['maxRating']}, Number of Ratings: {record['numRatings']}\")\n",
    "print(\"\\n\")"
   ],
   "id": "630cbf62c364af94",
   "outputs": [
    {
     "name": "stdout",
     "output_type": "stream",
     "text": [
      "Task 1(d) - Top 5 recommended movies:\n",
      "Title: The Matrix Reloaded, Min Rating: None, Avg Rating: None, Max Rating: None, Number of Ratings: 2\n",
      "Title: The Matrix Revolutions, Min Rating: None, Avg Rating: None, Max Rating: None, Number of Ratings: 10\n",
      "Title: Pulp Fiction, Min Rating: None, Avg Rating: None, Max Rating: None, Number of Ratings: 12\n",
      "Title: Cloud Atlas, Min Rating: None, Avg Rating: None, Max Rating: None, Number of Ratings: 10\n",
      "Title: The Matrix, Min Rating: None, Avg Rating: None, Max Rating: None, Number of Ratings: 1\n",
      "\n",
      "\n"
     ]
    }
   ],
   "execution_count": 26
  },
  {
   "metadata": {
    "ExecuteTime": {
     "end_time": "2024-06-05T10:43:44.979855Z",
     "start_time": "2024-06-05T10:43:44.870736Z"
    }
   },
   "cell_type": "code",
   "source": [
    "# Task 1(e)\n",
    "query_1e = \"\"\"\n",
    "MATCH (j:Person {name: \"James\"}), (t:Person {name: \"Thomas\"})\n",
    "MERGE (j)-[:FOLLOWS {KNOWS: \"Yes\"}]->(t)\n",
    "\"\"\"\n",
    "graph.run(query_1e)\n",
    "print(\"Task 1(e) - Created FOLLOWS relationship between 'James' and 'Thomas'.\")\n",
    "print(\"\\n\")"
   ],
   "id": "88f6fcac8e94d112",
   "outputs": [
    {
     "name": "stdout",
     "output_type": "stream",
     "text": [
      "Task 1(e) - Created FOLLOWS relationship between 'James' and 'Thomas'.\n",
      "\n",
      "\n"
     ]
    }
   ],
   "execution_count": 27
  },
  {
   "metadata": {
    "ExecuteTime": {
     "end_time": "2024-06-05T10:47:20.207043Z",
     "start_time": "2024-06-05T10:47:19.892476Z"
    }
   },
   "cell_type": "code",
   "source": [
    "# Task 1(f)\n",
    "query_1f_create_user = \"\"\"\n",
    "MERGE (u:Person {name: 'Yousef'})\n",
    "\"\"\"\n",
    "graph.run(query_1f_create_user)\n",
    "print(\"Task 1(f) - Created user 'Yousef'.\")\n",
    "print(\"\\n\")\n",
    "\n",
    "# Rate multiple movies\n",
    "movies_to_rate = [\n",
    "    {\"title\": \"Inception\", \"rating\": 5},\n",
    "    {\"title\": \"The Dark Knight\", \"rating\": 4},\n",
    "    {\"title\": \"Interstellar\", \"rating\": 5},\n",
    "    {\"title\": \"Dunkirk\", \"rating\": 4}\n",
    "]\n",
    "\n",
    "for movie in movies_to_rate:\n",
    "    query_1f_rate_movie = f\"\"\"\n",
    "    MATCH (u:Person {{name: 'Yousef'}}), (m:Movie {{title: '{movie['title']}'}})\n",
    "    MERGE (u)-[r:RATED]->(m)\n",
    "    ON CREATE SET r.rating = {movie['rating']}\n",
    "    ON MATCH SET r.rating = {movie['rating']}\n",
    "    \"\"\"\n",
    "    graph.run(query_1f_rate_movie)\n",
    "    print(f\"Rated '{movie['title']}' with {movie['rating']} stars by Yousef.\")\n",
    "\n",
    "# Ensure Thomas follows both James and Yousef\n",
    "query_1f_follow = \"\"\"\n",
    "MATCH (t:Person {name: \"Thomas\"}), (j:Person {name: \"James\"}), (y:Person {name: \"Yousef\"})\n",
    "MERGE (t)-[:FOLLOWS]->(j)\n",
    "MERGE (t)-[:FOLLOWS]->(y)\n",
    "\"\"\"\n",
    "graph.run(query_1f_follow)\n",
    "print(\"Task 1(f) - Created FOLLOWS relationships between 'Thomas' and 'James', and 'Thomas' and 'Yousef'.\")\n",
    "print(\"\\n\")\n",
    "\n",
    "# Verify Yousef's ratings\n",
    "query_verify_yousef_ratings = \"\"\"\n",
    "MATCH (u:Person {name: 'Yousef'})-[r:RATED]->(m:Movie)\n",
    "RETURN u.name AS User, m.title AS Movie, r.rating AS Rating\n",
    "\"\"\"\n",
    "result_verify_yousef_ratings = graph.run(query_verify_yousef_ratings).data()\n",
    "print(\"Yousef's Ratings:\")\n",
    "for record in result_verify_yousef_ratings:\n",
    "    print(f\"User: {record['User']}, Movie: {record['Movie']}, Rating: {record['Rating']}\")\n",
    "print(\"\\n\")\n",
    "\n",
    "# Verify Thomas follows Yousef\n",
    "query_verify_thomas_follows_yousef = \"\"\"\n",
    "MATCH (t:Person {name: 'Thomas'})-[:FOLLOWS]->(u:Person {name: 'Yousef'})\n",
    "RETURN t.name AS Follower, u.name AS Followed\n",
    "\"\"\"\n",
    "result_verify_thomas_follows_yousef = graph.run(query_verify_thomas_follows_yousef).data()\n",
    "print(\"Thomas Follows Yousef:\")\n",
    "for record in result_verify_thomas_follows_yousef:\n",
    "    print(f\"Follower: {record['Follower']}, Followed: {record['Followed']}\")\n",
    "print(\"\\n\")"
   ],
   "id": "e923621d950a7314",
   "outputs": [
    {
     "name": "stdout",
     "output_type": "stream",
     "text": [
      "Task 1(f) - Created user 'Yousef'.\n",
      "\n",
      "\n",
      "Rated 'Inception' with 5 stars by Yousef.\n",
      "Rated 'The Dark Knight' with 4 stars by Yousef.\n",
      "Rated 'Interstellar' with 5 stars by Yousef.\n",
      "Rated 'Dunkirk' with 4 stars by Yousef.\n",
      "Task 1(f) - Created FOLLOWS relationships between 'Thomas' and 'James', and 'Thomas' and 'Yousef'.\n",
      "\n",
      "\n",
      "Yousef's Ratings:\n",
      "User: Yousef, Movie: The Dark Knight, Rating: 4\n",
      "User: Yousef, Movie: The Dark Knight, Rating: 4\n",
      "User: Yousef, Movie: Inception, Rating: 5\n",
      "User: Yousef, Movie: Inception, Rating: 5\n",
      "User: Yousef, Movie: Inception, Rating: 5\n",
      "\n",
      "\n",
      "Thomas Follows Yousef:\n",
      "\n",
      "\n"
     ]
    }
   ],
   "execution_count": 31
  },
  {
   "metadata": {
    "ExecuteTime": {
     "end_time": "2024-06-05T10:51:27.545623Z",
     "start_time": "2024-06-05T10:51:27.539426Z"
    }
   },
   "cell_type": "code",
   "source": [
    "# Task 1(g)\n",
    "query_1g = \"\"\"\n",
    "MATCH (t:Person {name: 'Thomas'})-[:FOLLOWS]->(friend:Person)-[r:RATED]->(m:Movie)\n",
    "RETURN m.title AS MOVIES, friend.name AS Followed_user, r.rating AS rating\n",
    "\"\"\"\n",
    "result_1g = graph.run(query_1g).data()\n",
    "print(\"Task 1(g) - Movies rated by friends of 'Thomas':\")\n",
    "for record in result_1g:\n",
    "    print(f\"MOVIES: {record['MOVIES']}, Followed user: {record['Followed_user']}, rating: {record['rating']}\")\n",
    "print(\"\\n\")"
   ],
   "id": "97cc8780d15ca723",
   "outputs": [
    {
     "name": "stdout",
     "output_type": "stream",
     "text": [
      "Task 1(g) - Movies rated by friends of 'Thomas':\n",
      "\n",
      "\n"
     ]
    }
   ],
   "execution_count": 38
  },
  {
   "metadata": {},
   "cell_type": "code",
   "outputs": [],
   "execution_count": null,
   "source": "",
   "id": "759ef48c2092d4b4"
  }
 ],
 "metadata": {
  "kernelspec": {
   "display_name": "Python 3",
   "language": "python",
   "name": "python3"
  },
  "language_info": {
   "codemirror_mode": {
    "name": "ipython",
    "version": 2
   },
   "file_extension": ".py",
   "mimetype": "text/x-python",
   "name": "python",
   "nbconvert_exporter": "python",
   "pygments_lexer": "ipython2",
   "version": "2.7.6"
  }
 },
 "nbformat": 4,
 "nbformat_minor": 5
}
